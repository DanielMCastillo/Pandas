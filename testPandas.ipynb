{
 "cells": [
  {
   "cell_type": "code",
   "execution_count": 3,
   "id": "6de8106d",
   "metadata": {},
   "outputs": [],
   "source": [
    "import pandas as pd"
   ]
  },
  {
   "cell_type": "code",
   "execution_count": 8,
   "id": "3288e365",
   "metadata": {},
   "outputs": [
    {
     "name": "stdout",
     "output_type": "stream",
     "text": [
      "0      4\n",
      "1      9\n",
      "2      6\n",
      "3     10\n",
      "4    100\n",
      "5    200\n",
      "dtype: int64\n"
     ]
    }
   ],
   "source": [
    "# Creando una serie en Pandas\n",
    "naranjas = pd.Series([4,9,6,10,100,200])\n",
    "print(naranjas)"
   ]
  },
  {
   "cell_type": "code",
   "execution_count": 9,
   "id": "ff1f986f",
   "metadata": {},
   "outputs": [
    {
     "name": "stdout",
     "output_type": "stream",
     "text": [
      "0    60\n",
      "1    22\n",
      "2     1\n",
      "3    79\n",
      "4     2\n",
      "5     1\n",
      "dtype: int64\n"
     ]
    }
   ],
   "source": [
    "# Creando una serie en Pandas\n",
    "manzanas = pd.Series([60,22,1,79,2,1])\n",
    "print(manzanas)"
   ]
  },
  {
   "cell_type": "markdown",
   "id": "066beee5",
   "metadata": {},
   "source": []
  }
 ],
 "metadata": {
  "kernelspec": {
   "display_name": "Python 3",
   "language": "python",
   "name": "python3"
  },
  "language_info": {
   "codemirror_mode": {
    "name": "ipython",
    "version": 3
   },
   "file_extension": ".py",
   "mimetype": "text/x-python",
   "name": "python",
   "nbconvert_exporter": "python",
   "pygments_lexer": "ipython3",
   "version": "3.11.0"
  }
 },
 "nbformat": 4,
 "nbformat_minor": 5
}
